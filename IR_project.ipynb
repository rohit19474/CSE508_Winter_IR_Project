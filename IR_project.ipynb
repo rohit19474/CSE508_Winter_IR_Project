{
 "cells": [
  {
   "cell_type": "code",
   "execution_count": 2,
   "id": "ed85e983",
   "metadata": {},
   "outputs": [],
   "source": [
    "import re\n",
    "import string\n",
    "import nltk\n",
    "from rouge import Rouge\n",
    "from transformers import T5Tokenizer, T5ForConditionalGeneration\n",
    "import pandas as pd\n",
    "import spacy\n",
    "from nltk.tokenize import word_tokenize\n",
    "from nltk.corpus import stopwords\n",
    "from sklearn.feature_extraction.text import TfidfVectorizer"
   ]
  },
  {
   "cell_type": "code",
   "execution_count": 3,
   "id": "c9b527c6",
   "metadata": {},
   "outputs": [],
   "source": [
    "# Load the data\n",
    "df = pd.read_csv('news_summary.csv', encoding='ISO-8859-1')\n",
    "df=df[0:100]"
   ]
  },
  {
   "cell_type": "code",
   "execution_count": 4,
   "id": "2cd5655f",
   "metadata": {},
   "outputs": [],
   "source": [
    "# Load the tokenizer and model\n",
    "tokenizer = T5Tokenizer.from_pretrained('t5-small')\n",
    "model = T5ForConditionalGeneration.from_pretrained('t5-small')"
   ]
  },
  {
   "cell_type": "code",
   "execution_count": 5,
   "id": "3996349f",
   "metadata": {},
   "outputs": [],
   "source": [
    "nlp = spacy.load('en_core_web_sm')\n",
    "stop_words = set(stopwords.words('english'))\n",
    "\n",
    "def preprocess_text(text):\n",
    "    # Remove HTML tags and URLs\n",
    "    text = re.sub(r'<[^>]+>', '', text)\n",
    "    text = re.sub(r'http\\S+', '', text)\n",
    "    \n",
    "    # Tokenize the text using NLTK\n",
    "    tokens = nltk.word_tokenize(text.lower())\n",
    "\n",
    "    # Remove stopwords and punctuation\n",
    "    tokens = [token for token in tokens if token not in stop_words and token not in string.punctuation]\n",
    "\n",
    "    # Lemmatize the tokens using spaCy\n",
    "    lemmas = [token.lemma_ for token in nlp(\" \".join(tokens))]\n",
    "\n",
    "    # Remove any remaining non-alphabetic tokens\n",
    "    lemmas = [lemma for lemma in lemmas if lemma.isalpha()]\n",
    "\n",
    "    # Join the lemmas back into a string\n",
    "    text = \" \".join(lemmas)\n",
    "\n",
    "    return text\n",
    "\n",
    "# Preprocess the text in the DataFrame\n",
    "df['preprocessed_text'] = df['text'].apply(preprocess_text)"
   ]
  },
  {
   "cell_type": "code",
   "execution_count": 6,
   "id": "13fb1204",
   "metadata": {},
   "outputs": [],
   "source": [
    "# Extract features using TF-IDF\n",
    "vectorizer = TfidfVectorizer()\n",
    "X = vectorizer.fit_transform(df['preprocessed_text'])"
   ]
  },
  {
   "cell_type": "code",
   "execution_count": 7,
   "id": "f84f8694",
   "metadata": {},
   "outputs": [],
   "source": [
    "# Generate summaries and titles for each article\n",
    "summaries = []\n",
    "titles = []\n",
    "for i in range(len(df)):\n",
    "    # Tokenize the article text\n",
    "    text = df['text'][i]\n",
    "    inputs = tokenizer.encode(\"summarize: \" + text, return_tensors='pt', max_length=512, truncation=True)\n",
    "\n",
    "    # Generate the summary\n",
    "    summary_ids = model.generate(inputs,\n",
    "                                 num_beams=4,\n",
    "                                 no_repeat_ngram_size=2,\n",
    "                                 min_length=30,\n",
    "                                 max_length=100,\n",
    "                                 early_stopping=True)\n",
    "    summary = tokenizer.decode(summary_ids[0], skip_special_tokens=True)\n",
    "    summaries.append(summary)\n",
    "\n",
    "    # Generate the title from the summary\n",
    "    title_inputs = tokenizer.encode(\"summarize: \" + summary, return_tensors='pt', max_length=512, truncation=True)\n",
    "    title_ids = model.generate(title_inputs,\n",
    "                               num_beams=4,\n",
    "                               no_repeat_ngram_size=2,\n",
    "                               min_length=10,\n",
    "                               max_length=40,\n",
    "                               early_stopping=True)\n",
    "    title = tokenizer.decode(title_ids[0], skip_special_tokens=True)\n",
    "    titles.append(title)"
   ]
  },
  {
   "cell_type": "code",
   "execution_count": 8,
   "id": "95466454",
   "metadata": {},
   "outputs": [],
   "source": [
    "# Add the summaries and titles to the DataFrame\n",
    "df['generated_summary'] = summaries\n",
    "df['generated_title'] = titles"
   ]
  },
  {
   "cell_type": "code",
   "execution_count": 9,
   "id": "256b075b",
   "metadata": {},
   "outputs": [],
   "source": [
    "# Initialize the ROUGE metric\n",
    "rouge = Rouge()"
   ]
  },
  {
   "cell_type": "code",
   "execution_count": 10,
   "id": "9e6f8038",
   "metadata": {},
   "outputs": [],
   "source": [
    "# Calculate ROUGE scores for summaries and titles\n",
    "rouge_scores_summary = []\n",
    "rouge_scores_title = []\n",
    "for i in range(len(df)):\n",
    "    reference = df['headlines'][i]\n",
    "    summary = df['generated_summary'][i]\n",
    "    title = df['generated_title'][i]\n",
    "\n",
    "    scores_summary = rouge.get_scores(summary, reference)\n",
    "    rouge_scores_summary.append(scores_summary[0])\n",
    "\n",
    "    scores_title = rouge.get_scores(title, reference)\n",
    "    rouge_scores_title.append(scores_title[0])\n",
    "df['rouge_scores_summary'] = rouge_scores_summary\n",
    "df['rouge_scores_title'] = rouge_scores_title"
   ]
  },
  {
   "cell_type": "code",
   "execution_count": 14,
   "id": "3be6fbe2",
   "metadata": {},
   "outputs": [
    {
     "data": {
      "text/html": [
       "<div>\n",
       "<style scoped>\n",
       "    .dataframe tbody tr th:only-of-type {\n",
       "        vertical-align: middle;\n",
       "    }\n",
       "\n",
       "    .dataframe tbody tr th {\n",
       "        vertical-align: top;\n",
       "    }\n",
       "\n",
       "    .dataframe thead th {\n",
       "        text-align: right;\n",
       "    }\n",
       "</style>\n",
       "<table border=\"1\" class=\"dataframe\">\n",
       "  <thead>\n",
       "    <tr style=\"text-align: right;\">\n",
       "      <th></th>\n",
       "      <th>author</th>\n",
       "      <th>headlines</th>\n",
       "      <th>text</th>\n",
       "      <th>preprocessed_text</th>\n",
       "      <th>generated_summary</th>\n",
       "      <th>generated_title</th>\n",
       "      <th>rouge_scores_summary</th>\n",
       "      <th>rouge_scores_title</th>\n",
       "    </tr>\n",
       "  </thead>\n",
       "  <tbody>\n",
       "    <tr>\n",
       "      <th>0</th>\n",
       "      <td>Chhavi Tyagi</td>\n",
       "      <td>Daman &amp; Diu revokes mandatory Rakshabandhan in...</td>\n",
       "      <td>The Administration of Union Territory Daman an...</td>\n",
       "      <td>administration union territory daman diu revok...</td>\n",
       "      <td>the order made it compulsory for women to tie ...</td>\n",
       "      <td>order made it compulsory for women to tie rakh...</td>\n",
       "      <td>{'rouge-1': {'r': 0.2222222222222222, 'p': 0.1...</td>\n",
       "      <td>{'rouge-1': {'r': 0.2222222222222222, 'p': 0.1...</td>\n",
       "    </tr>\n",
       "    <tr>\n",
       "      <th>1</th>\n",
       "      <td>Daisy Mowke</td>\n",
       "      <td>Malaika slams user who trolled her for 'divorc...</td>\n",
       "      <td>Malaika Arora slammed an Instagram user who tr...</td>\n",
       "      <td>malaika arora slammed instagram user troll div...</td>\n",
       "      <td>malaika Arora slams an Instagram user who trol...</td>\n",
       "      <td>malaika Arora trolled her for \"divorcing a ric...</td>\n",
       "      <td>{'rouge-1': {'r': 0.7, 'p': 0.1944444444444444...</td>\n",
       "      <td>{'rouge-1': {'r': 0.4, 'p': 0.1818181818181818...</td>\n",
       "    </tr>\n",
       "    <tr>\n",
       "      <th>2</th>\n",
       "      <td>Arshiya Chopra</td>\n",
       "      <td>'Virgin' now corrected to 'Unmarried' in IGIMS...</td>\n",
       "      <td>The Indira Gandhi Institute of Medical Science...</td>\n",
       "      <td>indira gandhi institute medical sciences igim ...</td>\n",
       "      <td>the indiana Gandhi institute of medical scienc...</td>\n",
       "      <td>indiana Gandhi institute of medical sciences c...</td>\n",
       "      <td>{'rouge-1': {'r': 0.25, 'p': 0.090909090909090...</td>\n",
       "      <td>{'rouge-1': {'r': 0.25, 'p': 0.1, 'f': 0.14285...</td>\n",
       "    </tr>\n",
       "    <tr>\n",
       "      <th>3</th>\n",
       "      <td>Sumedha Sehra</td>\n",
       "      <td>Aaj aapne pakad liya: LeT man Dujana before be...</td>\n",
       "      <td>Lashkar-e-Taiba's Kashmir commander Abu Dujana...</td>\n",
       "      <td>lashkar e taiba kashmir commander abu dujana k...</td>\n",
       "      <td>kabhi hum aage was killed by security forces. ...</td>\n",
       "      <td>kabhi hum aage was killed by security forces. ...</td>\n",
       "      <td>{'rouge-1': {'r': 0.1, 'p': 0.0322580645161290...</td>\n",
       "      <td>{'rouge-1': {'r': 0.1, 'p': 0.0434782608695652...</td>\n",
       "    </tr>\n",
       "    <tr>\n",
       "      <th>4</th>\n",
       "      <td>Aarushi Maheshwari</td>\n",
       "      <td>Hotel staff to get training to spot signs of s...</td>\n",
       "      <td>Hotels in Maharashtra will train their staff t...</td>\n",
       "      <td>hotels maharashtra train staff spot sign sex t...</td>\n",
       "      <td>hotels in Maharashtra will train staff to spot...</td>\n",
       "      <td>a mobile phone app called Rescue Me will alert...</td>\n",
       "      <td>{'rouge-1': {'r': 0.7, 'p': 0.1707317073170731...</td>\n",
       "      <td>{'rouge-1': {'r': 0.2, 'p': 0.0645161290322580...</td>\n",
       "    </tr>\n",
       "  </tbody>\n",
       "</table>\n",
       "</div>"
      ],
      "text/plain": [
       "               author                                          headlines  \\\n",
       "0        Chhavi Tyagi  Daman & Diu revokes mandatory Rakshabandhan in...   \n",
       "1         Daisy Mowke  Malaika slams user who trolled her for 'divorc...   \n",
       "2      Arshiya Chopra  'Virgin' now corrected to 'Unmarried' in IGIMS...   \n",
       "3       Sumedha Sehra  Aaj aapne pakad liya: LeT man Dujana before be...   \n",
       "4  Aarushi Maheshwari  Hotel staff to get training to spot signs of s...   \n",
       "\n",
       "                                                text  \\\n",
       "0  The Administration of Union Territory Daman an...   \n",
       "1  Malaika Arora slammed an Instagram user who tr...   \n",
       "2  The Indira Gandhi Institute of Medical Science...   \n",
       "3  Lashkar-e-Taiba's Kashmir commander Abu Dujana...   \n",
       "4  Hotels in Maharashtra will train their staff t...   \n",
       "\n",
       "                                   preprocessed_text  \\\n",
       "0  administration union territory daman diu revok...   \n",
       "1  malaika arora slammed instagram user troll div...   \n",
       "2  indira gandhi institute medical sciences igim ...   \n",
       "3  lashkar e taiba kashmir commander abu dujana k...   \n",
       "4  hotels maharashtra train staff spot sign sex t...   \n",
       "\n",
       "                                   generated_summary  \\\n",
       "0  the order made it compulsory for women to tie ...   \n",
       "1  malaika Arora slams an Instagram user who trol...   \n",
       "2  the indiana Gandhi institute of medical scienc...   \n",
       "3  kabhi hum aage was killed by security forces. ...   \n",
       "4  hotels in Maharashtra will train staff to spot...   \n",
       "\n",
       "                                     generated_title  \\\n",
       "0  order made it compulsory for women to tie rakh...   \n",
       "1  malaika Arora trolled her for \"divorcing a ric...   \n",
       "2  indiana Gandhi institute of medical sciences c...   \n",
       "3  kabhi hum aage was killed by security forces. ...   \n",
       "4  a mobile phone app called Rescue Me will alert...   \n",
       "\n",
       "                                rouge_scores_summary  \\\n",
       "0  {'rouge-1': {'r': 0.2222222222222222, 'p': 0.1...   \n",
       "1  {'rouge-1': {'r': 0.7, 'p': 0.1944444444444444...   \n",
       "2  {'rouge-1': {'r': 0.25, 'p': 0.090909090909090...   \n",
       "3  {'rouge-1': {'r': 0.1, 'p': 0.0322580645161290...   \n",
       "4  {'rouge-1': {'r': 0.7, 'p': 0.1707317073170731...   \n",
       "\n",
       "                                  rouge_scores_title  \n",
       "0  {'rouge-1': {'r': 0.2222222222222222, 'p': 0.1...  \n",
       "1  {'rouge-1': {'r': 0.4, 'p': 0.1818181818181818...  \n",
       "2  {'rouge-1': {'r': 0.25, 'p': 0.1, 'f': 0.14285...  \n",
       "3  {'rouge-1': {'r': 0.1, 'p': 0.0434782608695652...  \n",
       "4  {'rouge-1': {'r': 0.2, 'p': 0.0645161290322580...  "
      ]
     },
     "execution_count": 14,
     "metadata": {},
     "output_type": "execute_result"
    }
   ],
   "source": [
    "df = df.drop(['read_more','ctext','date'], axis=1)\n",
    "df.head()"
   ]
  },
  {
   "cell_type": "code",
   "execution_count": 32,
   "id": "76d82ad7",
   "metadata": {},
   "outputs": [
    {
     "data": {
      "text/plain": [
       "'Malaika Arora slammed an Instagram user who trolled her for \"divorcing a rich man\" and \"having fun with the alimony\". \"Her life now is all about wearing short clothes, going to gym or salon, enjoying vacation[s],\" the user commented. Malaika responded, \"You certainly got to get your damn facts right before spewing sh*t on me...when you know nothing about me.\"'"
      ]
     },
     "execution_count": 32,
     "metadata": {},
     "output_type": "execute_result"
    }
   ],
   "source": [
    "df['text'][1]"
   ]
  },
  {
   "cell_type": "code",
   "execution_count": 33,
   "id": "6db5f947",
   "metadata": {},
   "outputs": [
    {
     "data": {
      "text/plain": [
       "'malaika Arora slams an Instagram user who trolled her for \"divorcing a rich man\" and \"having fun with the alimony\" \"her life now is all about wearing short clothes, going to gym or salon, enjoying vacation[s]\"'"
      ]
     },
     "execution_count": 33,
     "metadata": {},
     "output_type": "execute_result"
    }
   ],
   "source": [
    "df['generated_summary'][1]"
   ]
  },
  {
   "cell_type": "code",
   "execution_count": 34,
   "id": "2e615d44",
   "metadata": {},
   "outputs": [
    {
     "data": {
      "text/plain": [
       "'malaika Arora trolled her for \"divorcing a rich man\" and \"having fun with the alimony\" \"her life now is all about wearing'"
      ]
     },
     "execution_count": 34,
     "metadata": {},
     "output_type": "execute_result"
    }
   ],
   "source": [
    "df['generated_title'][1]"
   ]
  },
  {
   "cell_type": "code",
   "execution_count": 44,
   "id": "cc6b6806",
   "metadata": {},
   "outputs": [
    {
     "data": {
      "text/plain": [
       "{'rouge-1': {'r': 0.7, 'p': 0.19444444444444445, 'f': 0.30434782268431004},\n",
       " 'rouge-2': {'r': 0.4444444444444444,\n",
       "  'p': 0.11428571428571428,\n",
       "  'f': 0.1818181785640496},\n",
       " 'rouge-l': {'r': 0.7, 'p': 0.19444444444444445, 'f': 0.30434782268431004}}"
      ]
     },
     "execution_count": 44,
     "metadata": {},
     "output_type": "execute_result"
    }
   ],
   "source": [
    "df['rouge_scores_summary'][1]"
   ]
  },
  {
   "cell_type": "code",
   "execution_count": 43,
   "id": "273b7b80",
   "metadata": {},
   "outputs": [
    {
     "data": {
      "text/plain": [
       "{'rouge-1': {'r': 0.4, 'p': 0.18181818181818182, 'f': 0.2499999957031251},\n",
       " 'rouge-2': {'r': 0.2222222222222222,\n",
       "  'p': 0.09523809523809523,\n",
       "  'f': 0.13333332913333346},\n",
       " 'rouge-l': {'r': 0.4, 'p': 0.18181818181818182, 'f': 0.2499999957031251}}"
      ]
     },
     "execution_count": 43,
     "metadata": {},
     "output_type": "execute_result"
    }
   ],
   "source": [
    "df['rouge_scores_title'][1]"
   ]
  },
  {
   "cell_type": "code",
   "execution_count": null,
   "id": "d46360a5",
   "metadata": {},
   "outputs": [],
   "source": []
  },
  {
   "cell_type": "code",
   "execution_count": 42,
   "id": "5f1d47b5",
   "metadata": {},
   "outputs": [
    {
     "data": {
      "text/plain": [
       "'Producer of \\'Babumoshai Bandookbaaz\\' Kiran Shroff, while talking about sexist comments she faced, has said that a Central Board of Film Certification (CBFC) member asked her how she could make a film like this being a woman. A male member added, \"But she is not a woman. Look at what she is wearing.\" Kiran said that such thoughts were regressive.'"
      ]
     },
     "execution_count": 42,
     "metadata": {},
     "output_type": "execute_result"
    }
   ],
   "source": [
    "df['text'][57]"
   ]
  },
  {
   "cell_type": "code",
   "execution_count": 40,
   "id": "3d2a497b",
   "metadata": {},
   "outputs": [
    {
     "data": {
      "text/plain": [
       "\"producer of 'Babumoshai Bandookbaaz' Kiran Shroff says she faced sexist comments. a member of the Central Board of Film Certification asked her how she could make film such as this being the woman.\""
      ]
     },
     "execution_count": 40,
     "metadata": {},
     "output_type": "execute_result"
    }
   ],
   "source": [
    "df['generated_summary'][57]"
   ]
  },
  {
   "cell_type": "code",
   "execution_count": 41,
   "id": "15dce1a0",
   "metadata": {},
   "outputs": [
    {
     "data": {
      "text/plain": [
       "\"producer of 'Babumoshai Bandookbaaz' says she faced sexist comments.\""
      ]
     },
     "execution_count": 41,
     "metadata": {},
     "output_type": "execute_result"
    }
   ],
   "source": [
    "df['generated_title'][57]"
   ]
  },
  {
   "cell_type": "code",
   "execution_count": 45,
   "id": "9d36005c",
   "metadata": {},
   "outputs": [
    {
     "data": {
      "text/plain": [
       "{'rouge-1': {'r': 0.25, 'p': 0.06896551724137931, 'f': 0.10810810471877293},\n",
       " 'rouge-2': {'r': 0.0, 'p': 0.0, 'f': 0.0},\n",
       " 'rouge-l': {'r': 0.25, 'p': 0.06896551724137931, 'f': 0.10810810471877293}}"
      ]
     },
     "execution_count": 45,
     "metadata": {},
     "output_type": "execute_result"
    }
   ],
   "source": [
    "df['rouge_scores_summary'][57]"
   ]
  },
  {
   "cell_type": "code",
   "execution_count": 46,
   "id": "ee7d8508",
   "metadata": {},
   "outputs": [
    {
     "data": {
      "text/plain": [
       "{'rouge-1': {'r': 0.125, 'p': 0.1111111111111111, 'f': 0.11764705384083066},\n",
       " 'rouge-2': {'r': 0.0, 'p': 0.0, 'f': 0.0},\n",
       " 'rouge-l': {'r': 0.125, 'p': 0.1111111111111111, 'f': 0.11764705384083066}}"
      ]
     },
     "execution_count": 46,
     "metadata": {},
     "output_type": "execute_result"
    }
   ],
   "source": [
    "df['rouge_scores_title'][57]"
   ]
  },
  {
   "cell_type": "code",
   "execution_count": null,
   "id": "65755f7d",
   "metadata": {},
   "outputs": [],
   "source": []
  }
 ],
 "metadata": {
  "kernelspec": {
   "display_name": "Python 3 (ipykernel)",
   "language": "python",
   "name": "python3"
  },
  "language_info": {
   "codemirror_mode": {
    "name": "ipython",
    "version": 3
   },
   "file_extension": ".py",
   "mimetype": "text/x-python",
   "name": "python",
   "nbconvert_exporter": "python",
   "pygments_lexer": "ipython3",
   "version": "3.9.7"
  }
 },
 "nbformat": 4,
 "nbformat_minor": 5
}
